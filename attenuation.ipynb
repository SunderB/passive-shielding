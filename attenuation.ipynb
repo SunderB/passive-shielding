{
 "cells": [
  {
   "cell_type": "code",
   "execution_count": 45,
   "metadata": {},
   "outputs": [],
   "source": [
    "import numpy as np\n",
    "import pandas as pd\n",
    "import matplotlib.pyplot as plt\n",
    "import os, json\n",
    "from astropy import constants as const\n",
    "from astropy import units as u\n",
    "\n",
    "# increase label text size to 14\n",
    "font = {'size': 14}\n",
    "plt.rc('font', **font)"
   ]
  },
  {
   "cell_type": "markdown",
   "metadata": {},
   "source": [
    "### Load data"
   ]
  },
  {
   "cell_type": "code",
   "execution_count": 46,
   "metadata": {},
   "outputs": [
    {
     "name": "stdout",
     "output_type": "stream",
     "text": [
      "       material  molar_mass  density  scattering  absorption_2200\n",
      "0        copper     63.5460    8.960       8.030            3.780\n",
      "1          lead    207.2000   11.350      11.118            0.171\n",
      "2         water     18.0153    0.997     168.000         1365.000\n",
      "3  polyethylene     14.0266    0.960      -1.000           -1.000\n"
     ]
    }
   ],
   "source": [
    "data = pd.read_csv(\"materials/neutron_att_coeff.csv\", sep=',')\n",
    "print(data)"
   ]
  },
  {
   "cell_type": "markdown",
   "metadata": {},
   "source": [
    "### Input parameters"
   ]
  },
  {
   "cell_type": "code",
   "execution_count": 47,
   "metadata": {},
   "outputs": [
    {
     "name": "stdout",
     "output_type": "stream",
     "text": [
      "===== Input parameters =====\n",
      "Max count rate: 3.168808781402895e-09 1 / s = 0.1 1 / yr\n",
      "Neutron energy: 2.5299999999999998e-08 MeV = 0.0253 eV\n",
      "Gamma energy: 2.6149999999999998 MeV = 2615000.0 eV\n",
      "Incoming neutron flux: 1.51e-07 1 / (cm2 s)\n",
      "Incoming gamma counts: 0.013 1 / s\n",
      "Surface area: 5184.0 cm2\n",
      "Material: lead\n"
     ]
    }
   ],
   "source": [
    "# Material\n",
    "material = \"lead\"\n",
    "\n",
    "# Energy of incoming radiation\n",
    "neutron_energy = 25.30e-3 * u.eV    # 25.30 meV (2200m/s)\n",
    "gamma_energy = 2.615e6 * u.eV       # Tl-208 peak @ 2.615 MeV\n",
    "\n",
    "# Max count rate allowed\n",
    "max_count_rate = 0.1 / u.yr         # 1 count per year\n",
    "\n",
    "# Background radiation levels\n",
    "incoming_neutron_flux = 1.51e-7 / u.cm**2 / u.s \n",
    "incoming_gamma_counts = 0.013 / u.s\n",
    "\n",
    "# Surface area of detector\n",
    "surface_area = 5184 * u.cm**2\n",
    "\n",
    "print(\"===== Input parameters =====\")\n",
    "print(f\"Max count rate: {max_count_rate.to(1/u.s)} = {max_count_rate}\")\n",
    "print(f\"Neutron energy: {neutron_energy.to(u.MeV)} = {neutron_energy.to(u.eV)}\")\n",
    "print(f\"Gamma energy: {gamma_energy.to(u.MeV)} = {gamma_energy.to(u.eV)}\")\n",
    "print(f\"Incoming neutron flux: {incoming_neutron_flux}\")\n",
    "print(f\"Incoming gamma counts: {incoming_gamma_counts}\")\n",
    "print(f\"Surface area: {surface_area}\")\n",
    "print(f\"Material: {material}\")"
   ]
  },
  {
   "cell_type": "code",
   "execution_count": 48,
   "metadata": {},
   "outputs": [
    {
     "name": "stdout",
     "output_type": "stream",
     "text": [
      "===== Material: lead =====\n",
      "Number density: 3.2988078004826253e+22 1 / cm3\n",
      "Incoming counts: 0.0007827839999999999 1 / s = 24702.7843584 1 / yr\n",
      "Reduction required: 4.048126662531293e-06\n",
      "\n",
      "Neutron velocity: 2200.049482932255 m / s\n",
      "Absorption coefficient scale factor: 0.9999775082639554\n",
      "Scaled absorption coefficient: 0.17099615391313638 barn\n",
      "Scattering coefficient: 0.17099615391313638 barn\n",
      "Total attenuation coefficient: 1.1288996153913136e-23 cm2\n",
      "\n",
      "Thickness required (scattering only): 33.85649253414646 cm\n",
      "Thickness required (absorption only): 2201.31549967992 cm\n",
      "Thickness required: 33.343663055829985 cm\n"
     ]
    }
   ],
   "source": [
    "# Get material data\n",
    "material_data = data[data['material'] == material]\n",
    "\n",
    "density     = material_data['density'].values[0] * u.g / u.cm**3\n",
    "molar_mass  = material_data['molar_mass'].values[0] * u.g / u.mol\n",
    "scat_coeff  = material_data['scattering'].values[0] * u.barn\n",
    "abs_coeff   = material_data['absorption_2200'].values[0] * u.barn\n",
    "\n",
    "# Calculate number density\n",
    "number_density = (density * const.N_A / molar_mass).to(1/u.cm**3)\n",
    "print(f\"===== Material: {material} =====\")\n",
    "print(f\"Number density: {number_density}\")\n",
    "\n",
    "# Calculate reduction required\n",
    "incoming_counts = (incoming_neutron_flux * surface_area).to(1/u.yr)\n",
    "reduction_required = (max_count_rate / incoming_counts).to(u.dimensionless_unscaled)\n",
    "print(f\"Incoming counts: {incoming_counts.to(1/u.s)} = {incoming_counts}\")\n",
    "print(f\"Reduction required: {reduction_required}\")\n",
    "print()\n",
    "\n",
    "# Scale neutron absorption coefficient\n",
    "velocity = np.sqrt(2 * neutron_energy / const.m_n).to(u.m/u.s)\n",
    "scale_factor = ((2200 * u.m / u.s) / velocity).to(u.dimensionless_unscaled) # scales with 1/v\n",
    "abs_coeff = scale_factor * abs_coeff\n",
    "print(f\"Neutron velocity: {velocity}\")\n",
    "print(f\"Absorption coefficient scale factor: {scale_factor}\")\n",
    "print(f\"Scaled absorption coefficient: {scat_coeff}\")\n",
    "print(f\"Scattering coefficient: {abs_coeff}\")\n",
    "\n",
    "# Calculate total neutron attenuation coefficient\n",
    "total_coeff = (scat_coeff + abs_coeff).to(u.cm**2)\n",
    "print(f\"Total attenuation coefficient: {total_coeff}\")\n",
    "print()\n",
    "\n",
    "# Calculate thickness required\n",
    "thickness_scat = (-(np.log(reduction_required))/(scat_coeff * number_density)).to(u.cm)\n",
    "thickness_abs = (-(np.log(reduction_required))/(abs_coeff * number_density)).to(u.cm)\n",
    "thickness = (-(np.log(reduction_required))/(total_coeff * number_density)).to(u.cm)\n",
    "print(f\"Thickness required (scattering only): {thickness_scat}\")\n",
    "print(f\"Thickness required (absorption only): {thickness_abs}\")\n",
    "print(f\"Thickness required: {thickness}\")"
   ]
  },
  {
   "cell_type": "code",
   "execution_count": null,
   "metadata": {},
   "outputs": [],
   "source": []
  }
 ],
 "metadata": {
  "kernelspec": {
   "display_name": "Python 3",
   "language": "python",
   "name": "python3"
  },
  "language_info": {
   "codemirror_mode": {
    "name": "ipython",
    "version": 3
   },
   "file_extension": ".py",
   "mimetype": "text/x-python",
   "name": "python",
   "nbconvert_exporter": "python",
   "pygments_lexer": "ipython3",
   "version": "3.9.6"
  }
 },
 "nbformat": 4,
 "nbformat_minor": 2
}
